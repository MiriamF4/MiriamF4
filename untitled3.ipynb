{
  "nbformat": 4,
  "nbformat_minor": 0,
  "metadata": {
    "colab": {
      "provenance": [],
      "authorship_tag": "ABX9TyMXV4C3b5bjevyyeSp+ZlZ6",
      "include_colab_link": true
    },
    "kernelspec": {
      "name": "python3",
      "display_name": "Python 3"
    },
    "language_info": {
      "name": "python"
    }
  },
  "cells": [
    {
      "cell_type": "markdown",
      "metadata": {
        "id": "view-in-github",
        "colab_type": "text"
      },
      "source": [
        "<a href=\"https://colab.research.google.com/github/MiriamF4/MiriamF4/blob/main/untitled3.ipynb\" target=\"_parent\"><img src=\"https://colab.research.google.com/assets/colab-badge.svg\" alt=\"Open In Colab\"/></a>"
      ]
    },
    {
      "cell_type": "code",
      "execution_count": null,
      "metadata": {
        "colab": {
          "base_uri": "https://localhost:8080/"
        },
        "id": "WqYPBncEG8Ge",
        "outputId": "eaa04c15-3f7e-4160-85f5-89a10926a39b"
      },
      "outputs": [
        {
          "output_type": "execute_result",
          "data": {
            "text/plain": [
              "[2, 6, 10]"
            ]
          },
          "metadata": {},
          "execution_count": 12
        }
      ],
      "source": [
        "x=[1,2,3,6,9,11,63,10]\n",
        "\n",
        "def par(n):\n",
        "  if n %2==0:\n",
        "    return True\n",
        "  else:\n",
        "    return False\n",
        "  \n",
        "list(filter(par,x))\n",
        "\n"
      ]
    },
    {
      "cell_type": "code",
      "source": [
        "x=[1,2,3,6,9,11,63,10]\n",
        "\n",
        "def par(n):\n",
        "  if n %2==0:\n",
        "    return True\n",
        "  else:\n",
        "    return False\n",
        "  \n",
        "list(map(par,x))"
      ],
      "metadata": {
        "colab": {
          "base_uri": "https://localhost:8080/"
        },
        "id": "rV0VeqEBIoSn",
        "outputId": "de719ed7-ffdf-44a1-8f09-3ff38c80c1bf"
      },
      "execution_count": null,
      "outputs": [
        {
          "output_type": "execute_result",
          "data": {
            "text/plain": [
              "[False, True, False, True, False, False, False, True]"
            ]
          },
          "metadata": {},
          "execution_count": 14
        }
      ]
    },
    {
      "cell_type": "code",
      "source": [
        "import math\n",
        "x=[1,6,3,8,2,9,4]\n",
        "list(map(math.sqrt,x))\n"
      ],
      "metadata": {
        "colab": {
          "base_uri": "https://localhost:8080/"
        },
        "id": "Kv7tqja2O7iW",
        "outputId": "e29938ef-ea8d-47e6-a82d-88b71af0cacb"
      },
      "execution_count": null,
      "outputs": [
        {
          "output_type": "execute_result",
          "data": {
            "text/plain": [
              "[1.0,\n",
              " 2.449489742783178,\n",
              " 1.7320508075688772,\n",
              " 2.8284271247461903,\n",
              " 1.4142135623730951,\n",
              " 3.0,\n",
              " 2.0]"
            ]
          },
          "metadata": {},
          "execution_count": 17
        }
      ]
    },
    {
      "cell_type": "code",
      "source": [
        "from functools import reduce\n",
        "\n",
        "list= [45,23,85,45,]\n",
        "\n",
        "print(reduce(lambda x,y: x+y, list))"
      ],
      "metadata": {
        "colab": {
          "base_uri": "https://localhost:8080/"
        },
        "id": "u-Ewu50rRPMu",
        "outputId": "15177065-4a35-44cb-8b6e-a6ce1b116c4d"
      },
      "execution_count": null,
      "outputs": [
        {
          "output_type": "stream",
          "name": "stdout",
          "text": [
            "198\n"
          ]
        }
      ]
    },
    {
      "cell_type": "code",
      "source": [
        "from ast import Expression\n",
        "lambda arg1,arg2,argN: Expression\n",
        "soma = lambda x,y: x/y\n",
        "print(soma(8,5))"
      ],
      "metadata": {
        "colab": {
          "base_uri": "https://localhost:8080/"
        },
        "id": "C2JfqBIFUJxJ",
        "outputId": "1fffd215-9817-4de1-f4f6-1243fa433f86"
      },
      "execution_count": null,
      "outputs": [
        {
          "output_type": "stream",
          "name": "stdout",
          "text": [
            "1.6\n"
          ]
        }
      ]
    },
    {
      "cell_type": "code",
      "source": [
        "from logging import Filter\n",
        "list = [1,1.7,22.5,3,8]\n",
        "int = Filter"
      ],
      "metadata": {
        "id": "wHp7TpqFcWv-"
      },
      "execution_count": null,
      "outputs": []
    },
    {
      "cell_type": "code",
      "source": [
        "def ex_soma (a, b):\n",
        "   s = a + b\n",
        "   return s\n",
        "   \n",
        "soma_lambda = lambda numero1, numero2: numero1 + numero2  \n",
        "\n",
        "soma = ex_soma(10, 20)        \n",
        "\n",
        "print('Soma = ', soma)\n",
        "\n",
        "soma = soma_lambda(10,20)    \n",
        "print ('Soma Lambda = ', soma)"
      ],
      "metadata": {
        "colab": {
          "base_uri": "https://localhost:8080/"
        },
        "id": "hk4WdFNEguNJ",
        "outputId": "d3ac3505-0b39-4e0c-faea-b0e4742139f3"
      },
      "execution_count": null,
      "outputs": [
        {
          "output_type": "stream",
          "name": "stdout",
          "text": [
            "Soma =  30\n",
            "Soma Lambda =  30\n"
          ]
        }
      ]
    }
  ]
}